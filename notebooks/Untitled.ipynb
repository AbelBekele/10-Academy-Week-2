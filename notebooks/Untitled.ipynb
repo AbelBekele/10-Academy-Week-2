{
 "cells": [
  {
   "cell_type": "code",
   "execution_count": 12,
   "id": "70dcf885-493c-4776-9ef8-e540f5ddcccf",
   "metadata": {},
   "outputs": [
    {
     "ename": "TabError",
     "evalue": "inconsistent use of tabs and spaces in indentation (extractor.py, line 263)",
     "output_type": "error",
     "traceback": [
      "Traceback \u001b[1;36m(most recent call last)\u001b[0m:\n",
      "\u001b[0m  File \u001b[0;32m~\\Documents\\10 Academy\\Week-2\\10-Academy-Week-2\\week2\\lib\\site-packages\\IPython\\core\\interactiveshell.py:3508\u001b[0m in \u001b[0;35mrun_code\u001b[0m\n    exec(code_obj, self.user_global_ns, self.user_ns)\u001b[0m\n",
      "\u001b[1;36m  Cell \u001b[1;32mIn[12], line 3\u001b[1;36m\n\u001b[1;33m    import extractor\u001b[1;36m\n",
      "\u001b[1;36m  File \u001b[1;32m~\\Documents\\10 Academy\\Week-2\\10-Academy-Week-2\\week2\\lib\\site-packages\\extractor.py:263\u001b[1;36m\u001b[0m\n\u001b[1;33m    keyword = keyword.decode(EXTRACTOR_ENCODING)\u001b[0m\n\u001b[1;37m                                                ^\u001b[0m\n\u001b[1;31mTabError\u001b[0m\u001b[1;31m:\u001b[0m inconsistent use of tabs and spaces in indentation\n"
     ]
    }
   ],
   "source": [
    "import pandas as pd\n",
    "import sys\n",
    "import extractor\n",
    "import os"
   ]
  },
  {
   "cell_type": "code",
   "execution_count": null,
   "id": "1226cb9d-173c-4b40-939f-914a038ce4ea",
   "metadata": {},
   "outputs": [],
   "source": []
  },
  {
   "cell_type": "code",
   "execution_count": null,
   "id": "db8c60c2-0607-4125-928a-0608e332a6cf",
   "metadata": {},
   "outputs": [],
   "source": []
  },
  {
   "cell_type": "code",
   "execution_count": null,
   "id": "96848373-d8c1-4694-8f18-2ce52ae0b354",
   "metadata": {},
   "outputs": [],
   "source": []
  }
 ],
 "metadata": {
  "kernelspec": {
   "display_name": "Python 3 (ipykernel)",
   "language": "python",
   "name": "python3"
  },
  "language_info": {
   "codemirror_mode": {
    "name": "ipython",
    "version": 3
   },
   "file_extension": ".py",
   "mimetype": "text/x-python",
   "name": "python",
   "nbconvert_exporter": "python",
   "pygments_lexer": "ipython3",
   "version": "3.8.17"
  }
 },
 "nbformat": 4,
 "nbformat_minor": 5
}
